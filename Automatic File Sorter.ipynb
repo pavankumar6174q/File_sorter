{
 "cells": [
  {
   "cell_type": "markdown",
   "id": "ae2e8b55-c673-4e8e-99d3-38a8c79d338b",
   "metadata": {},
   "source": [
    "                                                        AUTOMATIC FILE SORTER"
   ]
  },
  {
   "cell_type": "code",
   "execution_count": null,
   "id": "02d50005-f737-4c40-8780-51853a2a4d8d",
   "metadata": {},
   "outputs": [],
   "source": [
    "Sorts the files according to their data types"
   ]
  },
  {
   "cell_type": "code",
   "execution_count": 1,
   "id": "2552cf09-49fd-4503-9310-d098f51b725f",
   "metadata": {},
   "outputs": [],
   "source": [
    "import os, shutil"
   ]
  },
  {
   "cell_type": "code",
   "execution_count": 35,
   "id": "e7d119f5-f301-4ef0-bed6-d881c7aadaf9",
   "metadata": {},
   "outputs": [],
   "source": [
    "path = r\"C:\\\\Users\\\\Pavan\\\\OneDrive\\\\Desktop\\\\Automatic file sorter test\\\\\""
   ]
  },
  {
   "cell_type": "code",
   "execution_count": 79,
   "id": "c95613be-0128-4c6b-b536-64478cfd0324",
   "metadata": {},
   "outputs": [
    {
     "data": {
      "text/plain": [
       "['csv_files',\n",
       " 'excel_files',\n",
       " 'image_files',\n",
       " 'PDF_files',\n",
       " 'PDF_filesArthur-Arons-36-questions-2.pdf',\n",
       " 'text_files']"
      ]
     },
     "execution_count": 79,
     "metadata": {},
     "output_type": "execute_result"
    }
   ],
   "source": [
    "os.listdir(path)"
   ]
  },
  {
   "cell_type": "markdown",
   "id": "a090e621-465a-4899-85f9-aab8679b4a9e",
   "metadata": {},
   "source": [
    "CHECKING WHERE THE FILE TYPE EXISTS OR NOT // ITS TRUE BECAUSE I'VE CREATED FILES USING THE BELOW CODE ALREADY"
   ]
  },
  {
   "cell_type": "code",
   "execution_count": 41,
   "id": "d875f420-03f3-4943-a532-9563dfe880d9",
   "metadata": {},
   "outputs": [
    {
     "data": {
      "text/plain": [
       "True"
      ]
     },
     "execution_count": 41,
     "metadata": {},
     "output_type": "execute_result"
    }
   ],
   "source": [
    "\n",
    "os.path.exists(path + 'csv_files')\n",
    "        "
   ]
  },
  {
   "cell_type": "markdown",
   "id": "69d154fa-cf64-429f-a184-b1fcd55dfb2a",
   "metadata": {},
   "source": [
    "THIS CREATES THE FOLDERS "
   ]
  },
  {
   "cell_type": "code",
   "execution_count": 81,
   "id": "5dc306a8-a151-49ed-a014-d27e8de10879",
   "metadata": {},
   "outputs": [],
   "source": [
    "folder_names = ['csv_files','excel_files','image_files','PDF_files','text_files']\n",
    "\n",
    "for folder in range(len(folder_names)):\n",
    "    # print(folder_names[folder])\n",
    "    if not os.path.exists(path + folder_names[folder]):\n",
    "        os.makedirs(path + folder_names[folder])"
   ]
  },
  {
   "cell_type": "markdown",
   "id": "d22b96d7-3b62-4c84-9b65-4c9f693a2772",
   "metadata": {},
   "source": []
  },
  {
   "cell_type": "code",
   "execution_count": 77,
   "id": "e58ac901-4b0f-4a66-b789-f542c4be7f40",
   "metadata": {},
   "outputs": [],
   "source": [
    "file_name = os.listdir(path)"
   ]
  },
  {
   "cell_type": "markdown",
   "id": "4fa264f3-9711-432d-bf56-ac15295b6a7e",
   "metadata": {},
   "source": [
    "CHECKING WHETHER '.CSV' FILE TYPE IS IN THE csv_files FOLDER"
   ]
  },
  {
   "cell_type": "code",
   "execution_count": 53,
   "id": "e0e77884-d612-459f-9601-b1aa53505755",
   "metadata": {},
   "outputs": [
    {
     "data": {
      "text/plain": [
       "False"
      ]
     },
     "execution_count": 53,
     "metadata": {},
     "output_type": "execute_result"
    }
   ],
   "source": [
    "os.path.exists(path + \"csv_files/\" + '.csv')"
   ]
  },
  {
   "cell_type": "markdown",
   "id": "1b15115b-9479-493e-986d-dd0674d08be1",
   "metadata": {},
   "source": [
    "MOVING THE .files INTO THE FOLDERS"
   ]
  },
  {
   "cell_type": "code",
   "execution_count": 83,
   "id": "60a51076-cc51-4d4b-ab9d-8875eaa64a78",
   "metadata": {},
   "outputs": [],
   "source": [
    "for file in file_name:\n",
    "    if '.csv' in file and not os.path.exists(path + 'csv_files/' + file):\n",
    "        shutil.move(path + file, path + 'csv_files/' + file)\n",
    "    elif '.xlsx' in file and not os.path.exists(path + 'excel_files/' + file):\n",
    "        shutil.move(path + file, path + 'excel_files/' + file)\n",
    "    elif '.png' in file and not os.path.exists(path + 'image_files/' + file):\n",
    "        shutil.move(path+file, path + 'image_files/' + file)\n",
    "    elif '.txt' in file and not os.path.exists(path + 'text_files/' + file):\n",
    "        shutil.move(path + file , path + 'text_files/' + file)\n",
    "    elif '.pdf' in file and not os.path.exists(path + 'PDF_files/' + file):\n",
    "        shutil.move(path + file, path + 'PDF_files/' + file)\n",
    "    \n",
    "    "
   ]
  },
  {
   "cell_type": "code",
   "execution_count": null,
   "id": "bce032d9-2f75-40f4-93d1-9d6c99efb5ea",
   "metadata": {},
   "outputs": [],
   "source": []
  }
 ],
 "metadata": {
  "kernelspec": {
   "display_name": "Python 3 (ipykernel)",
   "language": "python",
   "name": "python3"
  },
  "language_info": {
   "codemirror_mode": {
    "name": "ipython",
    "version": 3
   },
   "file_extension": ".py",
   "mimetype": "text/x-python",
   "name": "python",
   "nbconvert_exporter": "python",
   "pygments_lexer": "ipython3",
   "version": "3.12.4"
  }
 },
 "nbformat": 4,
 "nbformat_minor": 5
}
